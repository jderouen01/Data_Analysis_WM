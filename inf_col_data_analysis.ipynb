{
 "cells": [
  {
   "cell_type": "markdown",
   "metadata": {},
   "source": [
    "# Influence of Color on Working Memory"
   ]
  },
  {
   "cell_type": "markdown",
   "metadata": {},
   "source": [
    "## Background and Overview"
   ]
  },
  {
   "cell_type": "markdown",
   "metadata": {},
   "source": [
    "This project was conducted as undergraduate research regarding the effects that color has on working memory. The original project was developed using Qualtrics, SPSS, and JASP. Python was later used with this dataset as a way of learning pandas, numpy, scipy, etc. The original data was pulled from Qualtrics as an Excel file, then cleaned and analysed using python."
   ]
  },
  {
   "cell_type": "markdown",
   "metadata": {},
   "source": [
    "## Importing required packages"
   ]
  },
  {
   "cell_type": "code",
   "execution_count": 1,
   "metadata": {},
   "outputs": [],
   "source": [
    "import pandas as pd\n",
    "import os\n",
    "import numpy as np\n",
    "from unicodedata import category\n",
    "from scipy import stats\n",
    "import matplotlib.pyplot as plt\n",
    "pwd = os.getcwd()"
   ]
  },
  {
   "cell_type": "markdown",
   "metadata": {},
   "source": [
    "## Data Cleaning"
   ]
  },
  {
   "cell_type": "code",
   "execution_count": null,
   "metadata": {},
   "outputs": [],
   "source": [
    "# Import dataset as infcol\n",
    "infcol = pd.read_excel(pwd + \"\\infcol_fixed_column_name.xlsx\")\n",
    "\n",
    "# Drop unnecessary row\n",
    "infcol.drop(index = 0, inplace = True)\n",
    "\n",
    "# Drop unecessary columns\n",
    "infcol1 = infcol.drop(columns= [\"StartDate\", \"EndDate\", \"IPAddress\", \"RecordedDate\", \"ResponseId\", \"Progress\", \"RecipientLastName\",\n",
    "\"RecipientFirstName\", \"RecipientEmail\", \"ExternalReference\", \"LocationLatitude\", \"LocationLongitude\",\n",
    "\"DistributionChannel\",  \"UserLanguage\", \"Q_RecaptchaScore\", \"Informed Consent\", \"Status\"])\n",
    "\n",
    "# Drop rows based on condition, then droping columns and reseting index\n",
    "index_finished = infcol1[infcol1[\"Finished\"] == \"False\"].index\n",
    "infcol1 = infcol1.drop(index_finished)\n",
    "index_colorblind = infcol1[infcol1[\"Colorblind\"] == \"Yes\"].index\n",
    "infcol1 = infcol1.drop(index_colorblind)\n",
    "infcol1.reset_index(drop = True, inplace = True)\n",
    "infcol1.drop(columns = [\"Finished\", \"Colorblind\"], inplace = True)\n",
    "\n",
    "# Data Cleaning\n",
    "infcol1.iloc[9,2] = \"22\"\n",
    "infcol1.iloc[30,2] = \"22\"\n",
    "infcol1.iloc[44,2] = \"20\"\n",
    "\n",
    "# Wordlist\n",
    "Wordlist = [\"unit\", \"golf\", \"solo\", \"slam\", \"fate\", \"iron\", \"rear\", \"grip\", \"rage\", \"room\", \"tone\",\n",
    "          \"pour\", \"snap\", \"lily\",\"easy\",\"good\",\"band\",\"fame\",\"lump\",\"mile\",\"part\",\"mole\",\"snub\",\n",
    "          \"case\",\"club\",\"dance\",\"solve\",\"green\", \"utter\", \"terms\",\"spare\",\"creed\",\"blank\",\"choke\",\n",
    "          \"noble\",\"place\",\"trial\",\"dough\",\"ridge\",\"obese\",\"elite\",\"sweep\",\"lover\",\"feign\", \"truth\",\n",
    "          \"seize\", \"smart\",\"aware\",\"grind\",\"clean\",\"carpet\",\"tender\",\"wonder\",\"ballot\",\"manual\",\n",
    "          \"empire\",\"critic\",\"reject\",\"reader\",\"sleeve\",\"cheese\",\"chorus\",\"galaxy\",\"listen\",\"infect\",\n",
    "          \"makeup\",\"barrel\",\"banish\",\"bronze\",\"stroke\",\"action\",\"doctor\",\"exotic\",\"deputy\",\"gutter\"]\n",
    "          \n",
    "# Converting words to lowercase and getting rid of extra spaces\n",
    "infcol1.iloc[:,4:] = infcol1.iloc[:,4:].apply(lambda x : x.astype(str).str.lower())\n",
    "infcol1.iloc[:,4:] = infcol1.iloc[:,4:].apply(lambda x: x.astype(str).str.strip())\n",
    "\n",
    "# Counting correct words given by participants\n",
    "def f(x):\n",
    "    return x.apply(lambda x: x in Wordlist)\n",
    "infcol1.iloc[:,4:-2] = infcol1.iloc[:,4:-2].apply(f)\n",
    "infcol1[\"Count\"] = infcol1.iloc[:,4:-2].sum(axis = 1)\n",
    "\n",
    "# Dropping Useless columns\n",
    "infcol1 = infcol1.drop(infcol1.iloc[:,4:-2], axis = 1)\n",
    "\n",
    "# Data Cleaning\n",
    "Race_dict = {\"White\": \"W\", \"Black or African American\": \"B\", \"Asian\": \"A\", \"Latino\": \"L\", \"Other\": \"O\"}\n",
    "infcol1.rename(columns= {\"FL_18_DO\" : \"Color\", \"Duration (in seconds)\": \"Duration(s)\"}, inplace = True)\n",
    "Color_dict = {\"block4\" : \"Red\", \"block5\": \"Blue\", \"block6\": \"Black\"}\n",
    "Gender_dict = {\"Male\": \"M\", \"Female\": \"F\"}\n",
    "infcol1.replace({\"Race\": Race_dict, \"Color\": Color_dict, \"Gender\" : Gender_dict}, inplace = True)\n",
    "\n",
    "# Changing column datatypes\n",
    "infcol1[\"Count\"] = infcol1[\"Count\"].astype(int)\n",
    "infcol1[\"Duration(s)\"] = infcol1[\"Duration(s)\"].astype(int)\n",
    "infcol1[\"Age\"] = infcol1[\"Age\"].astype(int)\n",
    "infcol1[\"Color\"] = infcol1[\"Color\"].astype(\"category\")\n",
    "infcol1[\"Gender\"] = infcol1[\"Gender\"].astype(\"category\")\n",
    "infcol1[\"Race\"] = infcol1[\"Race\"].astype(\"category\")\n",
    "\n",
    "infcol1"
   ]
  },
  {
   "cell_type": "markdown",
   "metadata": {},
   "source": [
    "# Data Analysis"
   ]
  },
  {
   "cell_type": "markdown",
   "metadata": {},
   "source": [
    "### Descriptive Statistics"
   ]
  },
  {
   "cell_type": "code",
   "execution_count": null,
   "metadata": {},
   "outputs": [],
   "source": [
    "print(infcol1.select_dtypes(include = \"number\").describe())"
   ]
  },
  {
   "cell_type": "markdown",
   "metadata": {},
   "source": [
    "### Descriptives of Count split by Color"
   ]
  },
  {
   "cell_type": "code",
   "execution_count": null,
   "metadata": {},
   "outputs": [],
   "source": [
    "print(\"RED\"'\\n',infcol1[\"Count\"][infcol1[\"Color\"] == \"Red\"].describe())\n",
    "print(\"BLACK\"'\\n',infcol1[\"Count\"][infcol1[\"Color\"] == \"Black\"].describe())\n",
    "print(\"BLUE\"'\\n',infcol1[\"Count\"][infcol1[\"Color\"] == \"Blue\"].describe())"
   ]
  },
  {
   "cell_type": "markdown",
   "metadata": {},
   "source": [
    "### One-Way ANOVA"
   ]
  },
  {
   "cell_type": "markdown",
   "metadata": {},
   "source": [
    "Count ~ Color"
   ]
  },
  {
   "cell_type": "code",
   "execution_count": null,
   "metadata": {},
   "outputs": [],
   "source": [
    "import pingouin as pg"
   ]
  },
  {
   "cell_type": "code",
   "execution_count": null,
   "metadata": {},
   "outputs": [],
   "source": [
    "aovIC = pg.anova(data = infcol1, dv = \"Count\", between = \"Color\", detailed = True)\n",
    "print(aovIC)"
   ]
  },
  {
   "cell_type": "markdown",
   "metadata": {},
   "source": [
    "It was found that color accounts for less that 1% of the variance in the amount of words the participants remembered. "
   ]
  },
  {
   "cell_type": "markdown",
   "metadata": {},
   "source": [
    "### Two-Way ANOVA"
   ]
  },
  {
   "cell_type": "markdown",
   "metadata": {},
   "source": [
    "Count ~ Color, Gender, Color * Gender"
   ]
  },
  {
   "cell_type": "code",
   "execution_count": null,
   "metadata": {},
   "outputs": [],
   "source": [
    "twoway_aovIC = pg.anova(data = infcol1, dv = \"Count\", between = [\"Color\", \"Gender\"], detailed = True, ss_type = 3)\n",
    "print(twoway_aovIC)"
   ]
  },
  {
   "cell_type": "markdown",
   "metadata": {},
   "source": [
    "Gender does not have a main effect on the amount of words remembered, nor is there an interaction between gender and color."
   ]
  },
  {
   "cell_type": "markdown",
   "metadata": {},
   "source": [
    "### Correlations"
   ]
  },
  {
   "cell_type": "code",
   "execution_count": null,
   "metadata": {},
   "outputs": [],
   "source": [
    "print(\"The correlation coefficient of Duration(s) to the amount of words remembered is r =\",\n",
    "infcol1[\"Duration(s)\"].corr(infcol1[\"Count\"], method = \"spearman\"))"
   ]
  },
  {
   "cell_type": "code",
   "execution_count": null,
   "metadata": {},
   "outputs": [],
   "source": [
    "print(\"The correlation coefficent of Age to the amount of words remembered is r =\", \n",
    "infcol1[\"Age\"].corr(infcol1[\"Count\"], method = \"spearman\"),)\n",
    "print(\"While, the correlation coefficient of Duration(s) to Age is r =\", \n",
    "infcol1[\"Duration(s)\"].corr(infcol1[\"Age\"],method = \"spearman\"))"
   ]
  },
  {
   "cell_type": "markdown",
   "metadata": {},
   "source": [
    "### Data Visualization"
   ]
  },
  {
   "cell_type": "markdown",
   "metadata": {},
   "source": [
    "### Boxplot Breakdown of Count by Color"
   ]
  },
  {
   "cell_type": "code",
   "execution_count": null,
   "metadata": {},
   "outputs": [],
   "source": [
    "infcol1.boxplot(\"Count\", by = \"Color\", figsize = (10,7))"
   ]
  },
  {
   "cell_type": "markdown",
   "metadata": {},
   "source": [
    "### Bargraphs Showing Count split by Color"
   ]
  },
  {
   "cell_type": "code",
   "execution_count": null,
   "metadata": {},
   "outputs": [],
   "source": [
    "from matplotlib.pyplot import tight_layout\n",
    "\n",
    "\n",
    "distRed = infcol1[\"Count\"][infcol1[\"Color\"] == \"Red\"]\n",
    "distBlack = infcol1[\"Count\"][infcol1[\"Color\"] == \"Black\"]\n",
    "distBlue = infcol1[\"Count\"][infcol1[\"Color\"] == \"Blue\"]\n",
    "\n",
    "fig, axs = plt.subplots(1,3,sharey = True, tight_layout = True)\n",
    "\n",
    "axs[0].hist(distRed, bins = 10)\n",
    "axs[1].hist(distBlack, bins = 10)\n",
    "axs[2].hist(distBlue, bins = 10)\n",
    "\n",
    "axs[0].set_xlabel(\"Red\")\n",
    "axs[1].set_xlabel(\"Black\")\n",
    "axs[2].set_xlabel(\"Blue\")\n",
    "\n",
    "axs[0].set_ylabel(\"Count\")"
   ]
  },
  {
   "cell_type": "markdown",
   "metadata": {},
   "source": [
    "### Regression Line of Duration(s) ~ Count"
   ]
  },
  {
   "cell_type": "code",
   "execution_count": null,
   "metadata": {},
   "outputs": [],
   "source": [
    "count = infcol1[\"Count\"]\n",
    "duration = infcol1[\"Duration(s)\"]\n",
    "\n",
    "fig, ax = plt.subplots(figsize = (9,9))\n",
    "\n",
    "ax.scatter(count, duration, s = 60, alpha = 0.7, edgecolors = \"k\")\n",
    "\n",
    "b, a = np.polyfit(count, duration, deg = 1)\n",
    "\n",
    "xseq = np.linspace(0,60, num = 100)\n",
    "ax.plot(xseq, a + b * xseq, color = \"k\", lw = 2.5)\n",
    "\n",
    "plt.ylim(0,1000)\n",
    "ax.set_xlabel(\"Count\", fontsize = 20)\n",
    "ax.set_ylabel(\"Duration(s)\", fontsize = 20)\n",
    "plt.title(\"Duration(s) ~ Count Regression Line\", fontsize = 25)"
   ]
  }
 ],
 "metadata": {
  "kernelspec": {
   "display_name": "Python 3.9.12 ('base')",
   "language": "python",
   "name": "python3"
  },
  "language_info": {
   "codemirror_mode": {
    "name": "ipython",
    "version": 3
   },
   "file_extension": ".py",
   "mimetype": "text/x-python",
   "name": "python",
   "nbconvert_exporter": "python",
   "pygments_lexer": "ipython3",
   "version": "3.9.12"
  },
  "orig_nbformat": 4,
  "vscode": {
   "interpreter": {
    "hash": "7527fc7787be4d9690602168d2581fbe362957544346bd1f66b366187eafbe14"
   }
  }
 },
 "nbformat": 4,
 "nbformat_minor": 2
}
